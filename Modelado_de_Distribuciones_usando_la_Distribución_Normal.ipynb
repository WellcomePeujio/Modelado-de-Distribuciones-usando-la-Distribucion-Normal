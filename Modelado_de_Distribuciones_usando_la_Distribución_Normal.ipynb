{
  "nbformat": 4,
  "nbformat_minor": 0,
  "metadata": {
    "colab": {
      "private_outputs": true,
      "provenance": [],
      "authorship_tag": "ABX9TyOKkkjC6w2GrzH3k7wz0Wxi",
      "include_colab_link": true
    },
    "kernelspec": {
      "name": "python3",
      "display_name": "Python 3"
    },
    "language_info": {
      "name": "python"
    }
  },
  "cells": [
    {
      "cell_type": "markdown",
      "metadata": {
        "id": "view-in-github",
        "colab_type": "text"
      },
      "source": [
        "<a href=\"https://colab.research.google.com/github/WellcomePeujio/Modelado-de-Distribuciones-usando-la-Distribucion-Normal/blob/main/Modelado_de_Distribuciones_usando_la_Distribuci%C3%B3n_Normal.ipynb\" target=\"_parent\"><img src=\"https://colab.research.google.com/assets/colab-badge.svg\" alt=\"Open In Colab\"/></a>"
      ]
    },
    {
      "cell_type": "markdown",
      "source": [
        "# Modelado de Distribuciones usando la Distribución Normal\n",
        "\n",
        "**Problema**: Los puntajes de un examen de ciencia de datos siguen una **distribución normal** con una media de:\n",
        "\n",
        "$$\n",
        "\\mu = 75\n",
        "$$\n",
        "\n",
        "y una desviación estándar de:\n",
        "\n",
        "$$\n",
        "\\sigma = 10\n",
        "$$\n",
        "\n",
        "**Preguntas**:\n",
        "\n",
        "1. Calcula la **probabilidad** de que un estudiante tenga un puntaje mayor a 85.\n",
        "2. Encuentra el **puntaje** que corresponde al percentil 90.\n"
      ],
      "metadata": {
        "id": "7MJJPUZ-CemZ"
      }
    },
    {
      "cell_type": "markdown",
      "source": [
        "# Resolución del Modelado de Distribuciones usando la Distribución Normal\n",
        "\n",
        "## Paso 1: Cálculo de la Probabilidad de un Puntaje Mayor a 85\n",
        "\n",
        "Queremos encontrar la probabilidad de que un estudiante obtenga un puntaje mayor a 85. Utilizamos la fórmula de estandarización para la **distribución normal**:\n",
        "\n",
        "$$\n",
        "Z = \\frac{X - \\mu}{\\sigma}\n",
        "$$\n",
        "\n",
        "Donde:\n",
        "- $X$ es el puntaje observado,\n",
        "- $\\mu = 75$ es la media,\n",
        "- $\\sigma = 10$ es la desviación estándar.\n",
        "\n",
        "Sustituyendo $X = 85$:\n",
        "\n",
        "$$\n",
        "Z = \\frac{85 - 75}{10} = 1\n",
        "$$\n",
        "\n",
        "Ahora, buscamos la probabilidad de que $Z > 1$ usando la **tabla Z** o la función de distribución acumulativa (CDF) de la normal estándar:\n",
        "\n",
        "$$\n",
        "P(Z > 1) = 1 - P(Z \\leq 1) = 1 - 0.8413 = 0.1587\n",
        "$$\n",
        "\n",
        "Por lo tanto, la probabilidad de que un estudiante tenga un puntaje mayor a 85 es **0.1587** o **15.87%**.\n",
        "\n",
        "## Paso 2: Cálculo del Puntaje para el Percentil 90\n",
        "\n",
        "El **percentil 90** corresponde al valor de $X$ tal que el **90%** de los puntajes están por debajo de este valor. Usamos la fórmula inversa de la estandarización:\n",
        "\n",
        "$$\n",
        "X = \\mu + Z \\cdot \\sigma\n",
        "$$\n",
        "\n",
        "Donde $Z$ es el valor crítico de la normal estándar correspondiente al percentil 90. Según la **tabla Z**, el valor crítico para el percentil 90 es:\n",
        "\n",
        "$$\n",
        "Z = 1.28\n",
        "$$\n",
        "\n",
        "Sustituyendo los valores:\n",
        "\n",
        "$$\n",
        "X = 75 + 1.28 \\cdot 10 = 75 + 12.8 = 87.8\n",
        "$$\n",
        "\n",
        "Por lo tanto, el puntaje que corresponde al percentil 90 es **87.8**.\n",
        "\n",
        "## Resultados Finales:\n",
        "\n",
        "- La probabilidad de que un estudiante tenga un puntaje mayor a 85 es **15.87%**.\n",
        "- El puntaje correspondiente al percentil 90 es **87.8**.\n"
      ],
      "metadata": {
        "id": "P7OoZ6whClod"
      }
    },
    {
      "cell_type": "code",
      "source": [
        "import numpy as np\n",
        "import matplotlib.pyplot as plt\n",
        "from scipy.stats import norm\n",
        "\n",
        "# Parámetros de la distribución normal\n",
        "media = 75\n",
        "desviacion_estandar = 10\n",
        "\n",
        "# Definir el rango de puntajes\n",
        "x = np.linspace(40, 110, 500)\n",
        "\n",
        "# Función de densidad de probabilidad (PDF)\n",
        "pdf = norm.pdf(x, loc=media, scale=desviacion_estandar)\n",
        "\n",
        "# Cálculo de la probabilidad para puntaje > 85\n",
        "probabilidad_mayor_85 = 1 - norm.cdf(85, loc=media, scale=desviacion_estandar)\n",
        "\n",
        "# Cálculo del puntaje para el percentil 90\n",
        "percentil_90 = norm.ppf(0.9, loc=media, scale=desviacion_estandar)\n",
        "\n",
        "# Crear la gráfica\n",
        "plt.figure(figsize=(12, 6))\n",
        "plt.plot(x, pdf, color='blue', label='Distribución Normal')\n",
        "plt.fill_between(x, pdf, where=(x >= 85), color='red', alpha=0.3, label=f'P(X > 85) = {probabilidad_mayor_85:.4f}')\n",
        "plt.axvline(x=percentil_90, color='green', linestyle='--', label=f'Percentil 90: {percentil_90:.2f}')\n",
        "plt.axvline(x=85, color='red', linestyle='--', label='X = 85')\n",
        "plt.xlabel('Puntaje del Examen', fontsize=14)\n",
        "plt.ylabel('Densidad de Probabilidad', fontsize=14)\n",
        "plt.title('Distribución Normal de Puntajes del Examen', fontsize=16)\n",
        "plt.legend(fontsize=12)\n",
        "plt.grid(True)\n",
        "plt.show()\n",
        "\n",
        "# Mostrar resultados numéricos\n",
        "probabilidad_mayor_85, percentil_90\n"
      ],
      "metadata": {
        "id": "44Apte9UCyX3"
      },
      "execution_count": null,
      "outputs": []
    }
  ]
}